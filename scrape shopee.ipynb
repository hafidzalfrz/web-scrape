{
 "cells": [
  {
   "cell_type": "code",
   "execution_count": null,
   "metadata": {},
   "outputs": [],
   "source": [
    "import sys\n",
    "from selenium import webdriver\n",
    "from bs4 import BeautifulSoup\n",
    "import re\n",
    "import csv\n",
    "from selenium.webdriver.support.ui import WebDriverWait\n",
    "from selenium.webdriver.support import expected_conditions as EC\n",
    "from selenium.webdriver.common.by import By\n",
    "from selenium.common.exceptions import TimeoutException\n",
    "from selenium.webdriver.chrome.options import Options\n",
    "import time\n",
    "\n",
    "chrome_options = Options()\n",
    "# chrome_options.add_argument('--headless')\n",
    "chrome_options.add_argument('log-level=2')sys\n",
    "driver = webdriver.Chrome('./chromedriver', options=chrome_options)\n",
    "katakunci = input('Masukkan kata kunci : ')\n",
    "\n",
    "def search(katakunci):\n",
    "    links = []\n",
    "    \n",
    "    print('mencari semua product dengan kata kunci ' + katakunci)\n",
    "    url = 'https://shopee.co.id/search?keyword=' + katakunci\n",
    "    try:\n",
    "        driver.get(url)\n",
    "        time.sleep(5)\n",
    "        driver.execute_script('window.scrollTo(0, 1500);')\n",
    "        time.sleep(5)\n",
    "        driver.execute_script('window.scrollTo(0, 2500);')\n",
    "        time.sleep(5)\n",
    "        soup_a = BeautifulSoup(driver.page_source, 'html.parser')\n",
    "        products = soup_a.find('div', class_='row shopee-search-item-result__items')\n",
    "        for link in products.find_all('a'):\n",
    "            links.append(link.get('href'))\n",
    "            print(link.get('href'))\n",
    "    except TimeoutException:\n",
    "        print('failed to get links with query ')\n",
    "    \n",
    "    return links\n",
    "\n",
    "product_urls = search(katakunci)\n"
   ]
  },
  {
   "cell_type": "code",
   "execution_count": null,
   "metadata": {},
   "outputs": [],
   "source": [
    "def get_product(produt_url):\n",
    "    try:\n",
    "        url = 'https://shopee.co.id' + produt_url\n",
    "        driver.get(url)\n",
    "        time.sleep(10)\n",
    "        driver.execute_script('window.scrollTo(0, 1500);')\n",
    "        time.sleep(10)\n",
    "        WebDriverWait(driver, 10).until(\n",
    "            EC.visibility_of_element_located((By.CLASS_NAME, 'YPqix5'))) ## Class dapat berubah2\n",
    "        soup_b = BeautifulSoup(driver.page_source, 'html.parser')\n",
    "        title = soup_b.find('div', class_='YPqix5').text\n",
    "        price = soup_b.find('div', class_='X0xUb5').text\n",
    "        try:\n",
    "            image = soup_b.find('div', class_='_3VFGEz wdZ+2f')['style'] ## Class dapat berubah2\n",
    "            imgurl = re.findall('url\\((.*?)\\)', image)\n",
    "        except:\n",
    "            imgurl = 'none'\n",
    "        desc = soup_b.find('div', class_='sJarux').text\n",
    "        print('Scraping ' + title)\n",
    "\n",
    "        # kita simpan hasil scraping ke file sresult.csv\n",
    "        with open('sresult.csv','a', encoding='utf-8',newline='') as f:\n",
    "            writer=csv.writer(f)\n",
    "            writer.writerow([title,price,url,desc,imgurl])\n",
    "\n",
    "    except TimeoutException:\n",
    "        print('cant open the link')\n",
    "\n",
    "# products_urls = search(katakunci)\n",
    "\n",
    "for product_url in product_urls:\n",
    "    get_product(product_url)\n",
    "\n",
    "driver.quit()"
   ]
  }
 ],
 "metadata": {
  "kernelspec": {
   "display_name": "Python 3.8.3 ('base')",
   "language": "python",
   "name": "python3"
  },
  "language_info": {
   "codemirror_mode": {
    "name": "ipython",
    "version": 3
   },
   "file_extension": ".py",
   "mimetype": "text/x-python",
   "name": "python",
   "nbconvert_exporter": "python",
   "pygments_lexer": "ipython3",
   "version": "3.8.3 (default, Jul  2 2020, 17:30:36) [MSC v.1916 64 bit (AMD64)]"
  },
  "orig_nbformat": 4,
  "vscode": {
   "interpreter": {
    "hash": "a90aeebcf29d64a654773811cc170cb25061cb2498f10ac689db374c7bf325de"
   }
  }
 },
 "nbformat": 4,
 "nbformat_minor": 2
}
